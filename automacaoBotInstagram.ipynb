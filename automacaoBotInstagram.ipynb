{
 "cells": [
  {
   "cell_type": "code",
   "execution_count": 1,
   "id": "1e2d6ba9",
   "metadata": {},
   "outputs": [],
   "source": [
    "from selenium import webdriver\n",
    "from selenium.webdriver.chrome.service import Service\n",
    "from PySimpleGUI import PySimpleGUI as sg\n",
    "import time\n",
    "\n",
    "service = Service(executable_path='./chromedriver.exe')\n",
    "options = webdriver.ChromeOptions()\n",
    "driver = webdriver.Chrome(service=service, options=options)\n"
   ]
  },
  {
   "cell_type": "code",
   "execution_count": 2,
   "id": "6254bd6d",
   "metadata": {
    "scrolled": false
   },
   "outputs": [],
   "source": [
    "driver.get(\"https://www.instagram.com/\")\n",
    "time.sleep(2)"
   ]
  },
  {
   "cell_type": "code",
   "execution_count": 3,
   "id": "483915f4",
   "metadata": {
    "scrolled": true
   },
   "outputs": [],
   "source": [
    "driver.find_element(\"xpath\", '//*[@id=\"loginForm\"]/div/div[1]/div/label/input').send_keys(\"faelesco\")"
   ]
  },
  {
   "cell_type": "code",
   "execution_count": 4,
   "id": "706807f5",
   "metadata": {},
   "outputs": [],
   "source": [
    "driver.find_element(\"xpath\", '//*[@id=\"loginForm\"]/div/div[2]/div/label/input').send_keys(\"71683710251219Aa@\")"
   ]
  },
  {
   "cell_type": "code",
   "execution_count": 5,
   "id": "5eff3638",
   "metadata": {},
   "outputs": [],
   "source": [
    "driver.find_element(\"xpath\", '//*[@id=\"loginForm\"]/div/div[3]/button/div').click()\n",
    "time.sleep(3)"
   ]
  },
  {
   "cell_type": "code",
   "execution_count": 6,
   "id": "1f8f80fd",
   "metadata": {},
   "outputs": [],
   "source": [
    "time.sleep(5)\n",
    "driver.find_element(\"xpath\", '/html/body/div[2]/div/div/div[2]/div/div/div/div[1]/section/main/div/div/div[1]/div[2]/form/div[5]/button').click()"
   ]
  },
  {
   "cell_type": "code",
   "execution_count": 7,
   "id": "83c87877",
   "metadata": {},
   "outputs": [],
   "source": [
    "driver.find_element(\"xpath\", '/html/body/div[2]/div/div/div[2]/div/div/div/div[1]/section/main/div/div/div[1]/div[2]/form/div[1]/div/label/input').send_keys(\"95410328\")\n",
    "time.sleep(3)\n",
    "driver.find_element(\"xpath\", '/html/body/div[2]/div/div/div[2]/div/div/div/div[1]/section/main/div/div/div[1]/div[2]/form/div[2]/button').click()\n"
   ]
  },
  {
   "cell_type": "code",
   "execution_count": 8,
   "id": "445392a2",
   "metadata": {},
   "outputs": [
    {
     "ename": "NoSuchElementException",
     "evalue": "Message: no such element: Unable to locate element: {\"method\":\"xpath\",\"selector\":\"/html/body/div[2]/div/div/div[2]/div/div/div/div[1]/div[1]/div[2]/section/main/div/div/div/div/div\"}\n  (Session info: chrome=115.0.5790.171); For documentation on this error, please visit: https://www.selenium.dev/documentation/webdriver/troubleshooting/errors#no-such-element-exception\nStacktrace:\nBacktrace:\n\tGetHandleVerifier [0x00007FF6B91F4A62+57106]\n\t(No symbol) [0x00007FF6B916CF52]\n\t(No symbol) [0x00007FF6B903E2CB]\n\t(No symbol) [0x00007FF6B907786E]\n\t(No symbol) [0x00007FF6B907795C]\n\t(No symbol) [0x00007FF6B90B0477]\n\t(No symbol) [0x00007FF6B90969FF]\n\t(No symbol) [0x00007FF6B90AE522]\n\t(No symbol) [0x00007FF6B9096793]\n\t(No symbol) [0x00007FF6B906CE81]\n\t(No symbol) [0x00007FF6B906E064]\n\tGetHandleVerifier [0x00007FF6B94A4222+2873042]\n\tGetHandleVerifier [0x00007FF6B94F6590+3209792]\n\tGetHandleVerifier [0x00007FF6B94EF3AF+3180639]\n\tGetHandleVerifier [0x00007FF6B9285F25+652245]\n\t(No symbol) [0x00007FF6B9178618]\n\t(No symbol) [0x00007FF6B91747C4]\n\t(No symbol) [0x00007FF6B91748BC]\n\t(No symbol) [0x00007FF6B9164C33]\n\tBaseThreadInitThunk [0x00007FF8EB3555A0+16]\n\tRtlUserThreadStart [0x00007FF8EC9A485B+43]\n",
     "output_type": "error",
     "traceback": [
      "\u001b[1;31m---------------------------------------------------------------------------\u001b[0m",
      "\u001b[1;31mNoSuchElementException\u001b[0m                    Traceback (most recent call last)",
      "Cell \u001b[1;32mIn[8], line 1\u001b[0m\n\u001b[1;32m----> 1\u001b[0m driver\u001b[38;5;241m.\u001b[39mfind_element(\u001b[38;5;124m\"\u001b[39m\u001b[38;5;124mxpath\u001b[39m\u001b[38;5;124m\"\u001b[39m, \u001b[38;5;124m'\u001b[39m\u001b[38;5;124m/html/body/div[2]/div/div/div[2]/div/div/div/div[1]/div[1]/div[2]/section/main/div/div/div/div/div\u001b[39m\u001b[38;5;124m'\u001b[39m)\u001b[38;5;241m.\u001b[39mclick()\n",
      "File \u001b[1;32m~\\AppData\\Roaming\\Python\\Python311\\site-packages\\selenium\\webdriver\\remote\\webdriver.py:739\u001b[0m, in \u001b[0;36mWebDriver.find_element\u001b[1;34m(self, by, value)\u001b[0m\n\u001b[0;32m    736\u001b[0m     by \u001b[38;5;241m=\u001b[39m By\u001b[38;5;241m.\u001b[39mCSS_SELECTOR\n\u001b[0;32m    737\u001b[0m     value \u001b[38;5;241m=\u001b[39m \u001b[38;5;124mf\u001b[39m\u001b[38;5;124m'\u001b[39m\u001b[38;5;124m[name=\u001b[39m\u001b[38;5;124m\"\u001b[39m\u001b[38;5;132;01m{\u001b[39;00mvalue\u001b[38;5;132;01m}\u001b[39;00m\u001b[38;5;124m\"\u001b[39m\u001b[38;5;124m]\u001b[39m\u001b[38;5;124m'\u001b[39m\n\u001b[1;32m--> 739\u001b[0m \u001b[38;5;28;01mreturn\u001b[39;00m \u001b[38;5;28mself\u001b[39m\u001b[38;5;241m.\u001b[39mexecute(Command\u001b[38;5;241m.\u001b[39mFIND_ELEMENT, {\u001b[38;5;124m\"\u001b[39m\u001b[38;5;124musing\u001b[39m\u001b[38;5;124m\"\u001b[39m: by, \u001b[38;5;124m\"\u001b[39m\u001b[38;5;124mvalue\u001b[39m\u001b[38;5;124m\"\u001b[39m: value})[\u001b[38;5;124m\"\u001b[39m\u001b[38;5;124mvalue\u001b[39m\u001b[38;5;124m\"\u001b[39m]\n",
      "File \u001b[1;32m~\\AppData\\Roaming\\Python\\Python311\\site-packages\\selenium\\webdriver\\remote\\webdriver.py:345\u001b[0m, in \u001b[0;36mWebDriver.execute\u001b[1;34m(self, driver_command, params)\u001b[0m\n\u001b[0;32m    343\u001b[0m response \u001b[38;5;241m=\u001b[39m \u001b[38;5;28mself\u001b[39m\u001b[38;5;241m.\u001b[39mcommand_executor\u001b[38;5;241m.\u001b[39mexecute(driver_command, params)\n\u001b[0;32m    344\u001b[0m \u001b[38;5;28;01mif\u001b[39;00m response:\n\u001b[1;32m--> 345\u001b[0m     \u001b[38;5;28mself\u001b[39m\u001b[38;5;241m.\u001b[39merror_handler\u001b[38;5;241m.\u001b[39mcheck_response(response)\n\u001b[0;32m    346\u001b[0m     response[\u001b[38;5;124m\"\u001b[39m\u001b[38;5;124mvalue\u001b[39m\u001b[38;5;124m\"\u001b[39m] \u001b[38;5;241m=\u001b[39m \u001b[38;5;28mself\u001b[39m\u001b[38;5;241m.\u001b[39m_unwrap_value(response\u001b[38;5;241m.\u001b[39mget(\u001b[38;5;124m\"\u001b[39m\u001b[38;5;124mvalue\u001b[39m\u001b[38;5;124m\"\u001b[39m, \u001b[38;5;28;01mNone\u001b[39;00m))\n\u001b[0;32m    347\u001b[0m     \u001b[38;5;28;01mreturn\u001b[39;00m response\n",
      "File \u001b[1;32m~\\AppData\\Roaming\\Python\\Python311\\site-packages\\selenium\\webdriver\\remote\\errorhandler.py:229\u001b[0m, in \u001b[0;36mErrorHandler.check_response\u001b[1;34m(self, response)\u001b[0m\n\u001b[0;32m    227\u001b[0m         alert_text \u001b[38;5;241m=\u001b[39m value[\u001b[38;5;124m\"\u001b[39m\u001b[38;5;124malert\u001b[39m\u001b[38;5;124m\"\u001b[39m]\u001b[38;5;241m.\u001b[39mget(\u001b[38;5;124m\"\u001b[39m\u001b[38;5;124mtext\u001b[39m\u001b[38;5;124m\"\u001b[39m)\n\u001b[0;32m    228\u001b[0m     \u001b[38;5;28;01mraise\u001b[39;00m exception_class(message, screen, stacktrace, alert_text)  \u001b[38;5;66;03m# type: ignore[call-arg]  # mypy is not smart enough here\u001b[39;00m\n\u001b[1;32m--> 229\u001b[0m \u001b[38;5;28;01mraise\u001b[39;00m exception_class(message, screen, stacktrace)\n",
      "\u001b[1;31mNoSuchElementException\u001b[0m: Message: no such element: Unable to locate element: {\"method\":\"xpath\",\"selector\":\"/html/body/div[2]/div/div/div[2]/div/div/div/div[1]/div[1]/div[2]/section/main/div/div/div/div/div\"}\n  (Session info: chrome=115.0.5790.171); For documentation on this error, please visit: https://www.selenium.dev/documentation/webdriver/troubleshooting/errors#no-such-element-exception\nStacktrace:\nBacktrace:\n\tGetHandleVerifier [0x00007FF6B91F4A62+57106]\n\t(No symbol) [0x00007FF6B916CF52]\n\t(No symbol) [0x00007FF6B903E2CB]\n\t(No symbol) [0x00007FF6B907786E]\n\t(No symbol) [0x00007FF6B907795C]\n\t(No symbol) [0x00007FF6B90B0477]\n\t(No symbol) [0x00007FF6B90969FF]\n\t(No symbol) [0x00007FF6B90AE522]\n\t(No symbol) [0x00007FF6B9096793]\n\t(No symbol) [0x00007FF6B906CE81]\n\t(No symbol) [0x00007FF6B906E064]\n\tGetHandleVerifier [0x00007FF6B94A4222+2873042]\n\tGetHandleVerifier [0x00007FF6B94F6590+3209792]\n\tGetHandleVerifier [0x00007FF6B94EF3AF+3180639]\n\tGetHandleVerifier [0x00007FF6B9285F25+652245]\n\t(No symbol) [0x00007FF6B9178618]\n\t(No symbol) [0x00007FF6B91747C4]\n\t(No symbol) [0x00007FF6B91748BC]\n\t(No symbol) [0x00007FF6B9164C33]\n\tBaseThreadInitThunk [0x00007FF8EB3555A0+16]\n\tRtlUserThreadStart [0x00007FF8EC9A485B+43]\n"
     ]
    }
   ],
   "source": [
    "driver.find_element(\"xpath\", '/html/body/div[2]/div/div/div[2]/div/div/div/div[1]/div[1]/div[2]/section/main/div/div/div/div/div').click()"
   ]
  },
  {
   "cell_type": "code",
   "execution_count": 9,
   "id": "0e8b49b4",
   "metadata": {},
   "outputs": [],
   "source": [
    "driver.find_element(\"xpath\", '/html/body/div[2]/div/div/div[3]/div/div/div[1]/div/div[2]/div/div/div/div/div[2]/div/div/div[3]/button[2]').click()"
   ]
  },
  {
   "cell_type": "code",
   "execution_count": 10,
   "id": "6009ffb3",
   "metadata": {},
   "outputs": [],
   "source": [
    "driver.get(\"https://www.instagram.com/p/CvdYYllPiRI/\")"
   ]
  },
  {
   "cell_type": "code",
   "execution_count": 14,
   "id": "a37e1502",
   "metadata": {},
   "outputs": [
    {
     "name": "stdout",
     "output_type": "stream",
     "text": [
      "Executando a repetição número: 1\n",
      "Executando a repetição número: 2\n",
      "Executando a repetição número: 3\n",
      "Executando a repetição número: 4\n",
      "Executando a repetição número: 5\n",
      "Executando a repetição número: 6\n",
      "Executando a repetição número: 7\n",
      "Executando a repetição número: 8\n"
     ]
    },
    {
     "ename": "KeyboardInterrupt",
     "evalue": "",
     "output_type": "error",
     "traceback": [
      "\u001b[1;31m---------------------------------------------------------------------------\u001b[0m",
      "\u001b[1;31mKeyboardInterrupt\u001b[0m                         Traceback (most recent call last)",
      "Cell \u001b[1;32mIn[14], line 8\u001b[0m\n\u001b[0;32m      4\u001b[0m driver\u001b[38;5;241m.\u001b[39mfind_element(\u001b[38;5;124m\"\u001b[39m\u001b[38;5;124mxpath\u001b[39m\u001b[38;5;124m\"\u001b[39m, \u001b[38;5;124m'\u001b[39m\u001b[38;5;124m/html/body/div[2]/div/div/div[2]/div/div/div/div[1]/div[1]/div[2]/section/main/div/div[1]/div/div[2]/div/div[4]/section/div/form/div/div[2]/div\u001b[39m\u001b[38;5;124m'\u001b[39m)\u001b[38;5;241m.\u001b[39mclick()\n\u001b[0;32m      6\u001b[0m \u001b[38;5;28mprint\u001b[39m(\u001b[38;5;124m\"\u001b[39m\u001b[38;5;124mExecutando a repetição número:\u001b[39m\u001b[38;5;124m\"\u001b[39m, i \u001b[38;5;241m+\u001b[39m \u001b[38;5;241m1\u001b[39m)\n\u001b[1;32m----> 8\u001b[0m time\u001b[38;5;241m.\u001b[39msleep(\u001b[38;5;241m6\u001b[39m)\n",
      "\u001b[1;31mKeyboardInterrupt\u001b[0m: "
     ]
    }
   ],
   "source": [
    "for i in range(10):\n",
    "    driver.find_element(\"xpath\", '/html/body/div[2]/div/div/div[2]/div/div/div/div[1]/div[1]/div[2]/section/main/div/div[1]/div/div[2]/div/div[4]/section/div/form/div/textarea').send_keys(\"@lucilelis a braba!\")\n",
    "    \n",
    "    driver.find_element(\"xpath\", '/html/body/div[2]/div/div/div[2]/div/div/div/div[1]/div[1]/div[2]/section/main/div/div[1]/div/div[2]/div/div[4]/section/div/form/div/div[2]/div').click()\n",
    "    \n",
    "    print(\"Executando a repetição número:\", i + 1)\n",
    "    \n",
    "    time.sleep(6)"
   ]
  },
  {
   "cell_type": "code",
   "execution_count": null,
   "id": "016990a9",
   "metadata": {},
   "outputs": [],
   "source": [
    "for i in range(10):\n",
    "    driver.find_element(\"xpath\", '/html/body/div[2]/div/div/div[2]/div/div/div/div[1]/div[1]/div[2]/section/main/div/div[1]/div/div[2]/div/div[4]/section/div/form/div/textarea').send_keys(\"@lucilelis a braba!\")\n",
    "    \n",
    "    driver.find_element(\"xpath\", '/html/body/div[2]/div/div/div[2]/div/div/div/div[1]/div[1]/div[2]/section/main/div/div[1]/div/div[2]/div/div[4]/section/div/form/div/div[2]/div').click()\n",
    "    \n",
    "    print(\"Executando a repetição número:\", i + 1)\n",
    "    \n",
    "    time.sleep(6)"
   ]
  }
 ],
 "metadata": {
  "kernelspec": {
   "display_name": "Python 3 (ipykernel)",
   "language": "python",
   "name": "python3"
  },
  "language_info": {
   "codemirror_mode": {
    "name": "ipython",
    "version": 3
   },
   "file_extension": ".py",
   "mimetype": "text/x-python",
   "name": "python",
   "nbconvert_exporter": "python",
   "pygments_lexer": "ipython3",
   "version": "3.11.3"
  }
 },
 "nbformat": 4,
 "nbformat_minor": 5
}
